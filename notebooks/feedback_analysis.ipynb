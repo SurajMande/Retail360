{
 "cells": [
  {
   "cell_type": "markdown",
   "id": "977801d0",
   "metadata": {},
   "source": [
    "# 😊 Customer Feedback Analysis"
   ]
  },
  {
   "cell_type": "code",
   "execution_count": null,
   "id": "6a31f95b",
   "metadata": {},
   "outputs": [],
   "source": [
    "# Step 1: Import Libraries\n",
    "import pandas as pd\n",
    "import matplotlib.pyplot as plt\n",
    "import seaborn as sns\n",
    "\n",
    "sns.set(style=\"whitegrid\")\n"
   ]
  },
  {
   "cell_type": "code",
   "execution_count": null,
   "id": "42b36a80",
   "metadata": {},
   "outputs": [],
   "source": [
    "# Step 2: Load Dataset\n",
    "df = pd.read_csv(\"/home/samande371322/Retail360/datasets/customer_experience.csv\")\n",
    "df['last_purchase_date'] = pd.to_datetime(df['last_purchase_date'])\n",
    "df.head()\n"
   ]
  },
  {
   "cell_type": "markdown",
   "id": "41119080",
   "metadata": {},
   "source": [
    "## Step 3: Average Satisfaction by Product Category"
   ]
  },
  {
   "cell_type": "code",
   "execution_count": null,
   "id": "9e7b73a6",
   "metadata": {},
   "outputs": [],
   "source": [
    "avg_satisfaction = df.groupby(\"product_category\")[\"satisfaction_score\"].mean().sort_values()\n",
    "plt.figure(figsize=(10, 5))\n",
    "sns.barplot(x=avg_satisfaction.index, y=avg_satisfaction.values, palette=\"coolwarm\")\n",
    "plt.title(\"Average Satisfaction Score by Product Category\")\n",
    "plt.ylabel(\"Avg Satisfaction Score\")\n",
    "plt.xlabel(\"Product Category\")\n",
    "plt.ylim(2, 5)\n",
    "plt.show()\n"
   ]
  },
  {
   "cell_type": "markdown",
   "id": "96eed1d8",
   "metadata": {},
   "source": [
    "## Step 4: Most Common Complaints"
   ]
  },
  {
   "cell_type": "code",
   "execution_count": null,
   "id": "52c8d20d",
   "metadata": {},
   "outputs": [],
   "source": [
    "complaints_count = df[\"complaint_type\"].value_counts()\n",
    "plt.figure(figsize=(10, 5))\n",
    "sns.barplot(x=complaints_count.index, y=complaints_count.values, palette=\"Set2\")\n",
    "plt.title(\"Most Common Complaint Types\")\n",
    "plt.ylabel(\"Number of Complaints\")\n",
    "plt.xlabel(\"Complaint Type\")\n",
    "plt.xticks(rotation=45)\n",
    "plt.show()\n"
   ]
  },
  {
   "cell_type": "markdown",
   "id": "97c522ed",
   "metadata": {},
   "source": [
    "## Step 5: Average Service Rating by Region"
   ]
  },
  {
   "cell_type": "code",
   "execution_count": null,
   "id": "56f7a1f4",
   "metadata": {},
   "outputs": [],
   "source": [
    "region_ratings = df.groupby(\"region_id\")[\"service_rating\"].mean()\n",
    "plt.figure(figsize=(10, 5))\n",
    "sns.barplot(x=region_ratings.index, y=region_ratings.values, palette=\"viridis\")\n",
    "plt.title(\"Average Service Rating by Region\")\n",
    "plt.ylabel(\"Avg Service Rating\")\n",
    "plt.xlabel(\"Region\")\n",
    "plt.ylim(1, 5)\n",
    "plt.show()\n"
   ]
  },
  {
   "cell_type": "markdown",
   "id": "f4970c20",
   "metadata": {},
   "source": [
    "## Step 6 (Optional): Flag At-Risk Customers"
   ]
  },
  {
   "cell_type": "code",
   "execution_count": null,
   "id": "7aa3ca75",
   "metadata": {},
   "outputs": [],
   "source": [
    "# Flag customers with low satisfaction or service rating <= 2\n",
    "at_risk = df[(df[\"satisfaction_score\"] < 3.0) | (df[\"service_rating\"] <= 2)]\n",
    "at_risk.head()\n"
   ]
  },
  {
   "cell_type": "markdown",
   "id": "9b3472c1",
   "metadata": {},
   "source": [
    "You can use this analysis to improve service in low-performing regions and categories."
   ]
  }
 ],
 "metadata": {
  "language_info": {
   "name": "python"
  }
 },
 "nbformat": 4,
 "nbformat_minor": 5
}
