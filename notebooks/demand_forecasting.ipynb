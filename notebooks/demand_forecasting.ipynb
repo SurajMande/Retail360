{
 "cells": [
  {
   "cell_type": "markdown",
   "id": "c9b5bed2",
   "metadata": {},
   "source": [
    "# 📈 Demand Forecasting using Facebook Prophet"
   ]
  },
  {
   "cell_type": "code",
   "execution_count": null,
   "id": "cd4a0094",
   "metadata": {},
   "outputs": [],
   "source": [
    "# Step 1: Import Libraries\n",
    "import pandas as pd\n",
    "from prophet import Prophet\n",
    "import matplotlib.pyplot as plt\n"
   ]
  },
  {
   "cell_type": "code",
   "execution_count": null,
   "id": "c4aeba29",
   "metadata": {},
   "outputs": [],
   "source": [
    "# Step 2: Load Dataset\n",
    "df = pd.read_csv(\"/home/samande371322/Retail360/datasets/demand_forecast.csv\")\n",
    "df['date'] = pd.to_datetime(df['date'])\n",
    "df.head()\n"
   ]
  },
  {
   "cell_type": "code",
   "execution_count": null,
   "id": "ded7ec83",
   "metadata": {},
   "outputs": [],
   "source": [
    "# Step 3: Filter data (example: Laptop sales in region R001)\n",
    "filtered = df[(df['product_category'] == 'Laptop') & (df['region_id'] == 'R001')]\n",
    "grouped = filtered.groupby('date').agg({'units_sold': 'sum'}).reset_index()\n",
    "grouped.columns = ['ds', 'y']  # Prophet requires these column names\n",
    "grouped.head()\n"
   ]
  },
  {
   "cell_type": "code",
   "execution_count": null,
   "id": "e346a2a9",
   "metadata": {},
   "outputs": [],
   "source": [
    "# Step 4: Initialize and Fit Prophet Model\n",
    "model = Prophet()\n",
    "model.fit(grouped)\n"
   ]
  },
  {
   "cell_type": "code",
   "execution_count": null,
   "id": "bb5a48b0",
   "metadata": {},
   "outputs": [],
   "source": [
    "from prophet.serialize import model_to_json\n",
    "import os\n",
    "\n",
    "# Ensure folder exists\n",
    "os.makedirs(\"/home/samande371322/Retail360/ml_models\", exist_ok=True)\n",
    "\n",
    "# Save Prophet model for Region R001 & Laptop\n",
    "with open(\"/home/samande371322/Retail360/ml_models/prophet_model_R001_Laptop.json\", \"w\") as f:\n",
    "    f.write(model_to_json(model))\n"
   ]
  },
  {
   "cell_type": "code",
   "execution_count": null,
   "id": "d14b376e",
   "metadata": {},
   "outputs": [],
   "source": [
    "# Step 5: Create Future DataFrame\n",
    "future = model.make_future_dataframe(periods=30)  # Forecast next 30 days\n",
    "forecast = model.predict(future)\n",
    "forecast[['ds', 'yhat', 'yhat_lower', 'yhat_upper']].tail()\n"
   ]
  },
  {
   "cell_type": "code",
   "execution_count": null,
   "id": "a94121a1",
   "metadata": {},
   "outputs": [],
   "source": [
    "# Step 6: Plot Forecast\n",
    "fig1 = model.plot(forecast)\n",
    "plt.title(\"Laptop Sales Forecast (Region R001)\")\n",
    "plt.xlabel(\"Date\")\n",
    "plt.ylabel(\"Units Sold\")\n",
    "plt.grid(True)\n",
    "plt.show()\n"
   ]
  },
  {
   "cell_type": "code",
   "execution_count": null,
   "id": "7704b4b1",
   "metadata": {},
   "outputs": [],
   "source": [
    "# Step 7: Plot Forecast Components\n",
    "fig2 = model.plot_components(forecast)\n",
    "plt.show()\n"
   ]
  },

  {
   "cell_type": "markdown",
   "id": "4aec897d",
   "metadata": {},
   "source": [
    "You can change the `product_category` and `region_id` in Step 3 to forecast for other combinations."
   ]
  }
 ],
 "metadata": {
  "language_info": {
   "name": "python"
  }
 },
 "nbformat": 4,
 "nbformat_minor": 5
}
