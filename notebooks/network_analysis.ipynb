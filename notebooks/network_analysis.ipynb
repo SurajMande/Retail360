{
 "cells": [
  {
   "cell_type": "markdown",
   "id": "b2dd91fa",
   "metadata": {},
   "source": [
    "# Network Analysis - Store Location Clustering"
   ]
  },
  {
   "cell_type": "code",
   "execution_count": null,
   "id": "f8e51c61",
   "metadata": {},
   "outputs": [],
   "source": [
    "import pandas as pd\n",
    "from sklearn.preprocessing import StandardScaler\n",
    "from sklearn.cluster import KMeans\n",
    "from sklearn.decomposition import PCA\n",
    "import matplotlib.pyplot as plt\n",
    "\n",
    "df = pd.read_csv(\"/home/samande371322/Retail360/datasets/network_planning.csv\")"
   ]
  },
  {
   "cell_type": "markdown",
   "id": "6aaf5d04",
   "metadata": {},
   "source": [
    "## Step 2: Feature Selection"
   ]
  },
  {
   "cell_type": "code",
   "execution_count": null,
   "id": "64a47af2",
   "metadata": {},
   "outputs": [],
   "source": [
    "features = [\"population\", \"avg_income\", \"foot_traffic_score\", \"competitor_score\"]\n",
    "X = df[features]"
   ]
  },
  {
   "cell_type": "markdown",
   "id": "0fa756a8",
   "metadata": {},
   "source": [
    "## Step 3: Normalize Data"
   ]
  },
  {
   "cell_type": "code",
   "execution_count": null,
   "id": "1107ab07",
   "metadata": {},
   "outputs": [],
   "source": [
    "scaler = StandardScaler()\n",
    "X_scaled = scaler.fit_transform(X)"
   ]
  },
  {
   "cell_type": "markdown",
   "id": "5eab74ca",
   "metadata": {},
   "source": [
    "## Step 4: K-Means Clustering"
   ]
  },
  {
   "cell_type": "code",
   "execution_count": null,
   "id": "c14ab5c2",
   "metadata": {},
   "outputs": [],
   "source": [
    "kmeans = KMeans(n_clusters=3, random_state=42)\n",
    "df[\"cluster\"] = kmeans.fit_predict(X_scaled)"
   ]
  },
  {
   "cell_type": "markdown",
   "id": "55253f34",
   "metadata": {},
   "source": [
    "## Step 5: PCA for Visualization"
   ]
  },
  {
   "cell_type": "code",
   "execution_count": null,
   "id": "336b3aba",
   "metadata": {},
   "outputs": [],
   "source": [
    "pca = PCA(n_components=2)\n",
    "pca_result = pca.fit_transform(X_scaled)\n",
    "df[\"pca1\"] = pca_result[:, 0]\n",
    "df[\"pca2\"] = pca_result[:, 1]"
   ]
  },
  {
   "cell_type": "markdown",
   "id": "e1256739",
   "metadata": {},
   "source": [
    "## Step 6: Plotting"
   ]
  },
  {
   "cell_type": "code",
   "execution_count": null,
   "id": "25d33823",
   "metadata": {},
   "outputs": [],
   "source": [
    "plt.figure(figsize=(10, 6))\n",
    "for cluster in df[\"cluster\"].unique():\n",
    "    subset = df[df[\"cluster\"] == cluster]\n",
    "    plt.scatter(subset[\"pca1\"], subset[\"pca2\"], label=f\"Cluster {cluster}\", s=100)\n",
    "plt.xlabel(\"PCA 1\")\n",
    "plt.ylabel(\"PCA 2\")\n",
    "plt.title(\"Store Location Clusters (K-Means)\")\n",
    "plt.legend()\n",
    "plt.grid(True)\n",
    "plt.show()"
   ]
  },
  {
   "cell_type": "markdown",
   "id": "67346f2c",
   "metadata": {},
   "source": [
    "## Step 7: Cluster Results"
   ]
  },
  {
   "cell_type": "code",
   "execution_count": null,
   "id": "1ea2d4a7",
   "metadata": {},
   "outputs": [],
   "source": [
    "df[[\"city\", \"state\", \"cluster\"]]"
   ]
  },
  {
   "cell_type": "code",
   "execution_count": null,
   "id": "a0b409ce",
   "metadata": {},
   "outputs": [],
   "source": [
    "import os, joblib\n",
    "\n",
    "# Ensure the folder exists\n",
    "os.makedirs(\"/home/samande371322/Retail360/ml_models\", exist_ok=True)\n",
    "\n",
    "# Save the trained clustering model and scaler\n",
    "joblib.dump(kmeans, \"/home/samande371322/Retail360/ml_models/clustering_model.pkl\")\n",
    "joblib.dump(scaler, \"/home/samande371322/Retail360/ml_models/cluster_scaler.pkl\")\n"
   ]
  }
 ],
 "metadata": {
  "language_info": {
   "name": "python"
  }
 },
 "nbformat": 4,
 "nbformat_minor": 5
}
